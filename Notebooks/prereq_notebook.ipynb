{
 "cells": [
  {
   "cell_type": "code",
   "execution_count": 2,
   "id": "4e473d64",
   "metadata": {},
   "outputs": [
    {
     "name": "stdout",
     "output_type": "stream",
     "text": [
      "hello world!\n"
     ]
    }
   ],
   "source": [
    "print(\"hello world!\")"
   ]
  },
  {
   "cell_type": "markdown",
   "id": "0da2f39e",
   "metadata": {},
   "source": [
    "# About Me\n",
    "\n",
    "Hi, I’m Severan. I’m here to sharpen my data skills and build toward work that feels meaningful and sustainable. I come from a background in career advising and I’m especially interested in how data, design, and human behavior intersect. Excited to see where this leads.\n"
   ]
  }
 ],
 "metadata": {
  "kernelspec": {
   "display_name": "Python 3",
   "language": "python",
   "name": "python3"
  },
  "language_info": {
   "codemirror_mode": {
    "name": "ipython",
    "version": 3
   },
   "file_extension": ".py",
   "mimetype": "text/x-python",
   "name": "python",
   "nbconvert_exporter": "python",
   "pygments_lexer": "ipython3",
   "version": "3.12.3"
  }
 },
 "nbformat": 4,
 "nbformat_minor": 5
}
